{
 "cells": [
  {
   "cell_type": "code",
   "execution_count": 1,
   "id": "82e87ab4",
   "metadata": {},
   "outputs": [
    {
     "name": "stdout",
     "output_type": "stream",
     "text": [
      "165618.03536272614\n"
     ]
    }
   ],
   "source": [
    "capital = 100000\n",
    "win_prob = 0.75\n",
    "risk = 0.1\n",
    "rtr_ratio = 1.01\n",
    "max_loss_pct = 0.5\n",
    "\n",
    "def cal_return(trial, capital, wp, r, rtr, mlp):\n",
    "    stop_capital = capital * (1 - mlp)\n",
    "\n",
    "    for i in range(trial):\n",
    "        exp = (capital * (r * rtr) * wp) - (capital * (r) * (1-wp))\n",
    "        capital += exp\n",
    "\n",
    "        if capital <= stop_capital:\n",
    "            break\n",
    "\n",
    "        if i % 200 == 0:\n",
    "            capital += 1000\n",
    "\n",
    "    print(capital)\n",
    "\n",
    "\n",
    "\n",
    "cal_return(10, capital, wp=win_prob, r=risk, rtr= rtr_ratio, mlp=max_loss_pct)"
   ]
  },
  {
   "cell_type": "code",
   "execution_count": null,
   "id": "18d68a1a",
   "metadata": {},
   "outputs": [],
   "source": []
  }
 ],
 "metadata": {
  "kernelspec": {
   "display_name": "base",
   "language": "python",
   "name": "python3"
  },
  "language_info": {
   "codemirror_mode": {
    "name": "ipython",
    "version": 3
   },
   "file_extension": ".py",
   "mimetype": "text/x-python",
   "name": "python",
   "nbconvert_exporter": "python",
   "pygments_lexer": "ipython3",
   "version": "3.13.2"
  }
 },
 "nbformat": 4,
 "nbformat_minor": 5
}
